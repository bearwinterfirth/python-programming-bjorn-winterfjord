{
 "cells": [
  {
   "cell_type": "markdown",
   "metadata": {},
   "source": [
    "### 1 Pyhagorean theorem"
   ]
  },
  {
   "cell_type": "code",
   "execution_count": 1,
   "metadata": {},
   "outputs": [
    {
     "name": "stdout",
     "output_type": "stream",
     "text": [
      "The hypothenuse is 5.0 length units.\n",
      "The other cathetus is approximately 4.9 length units.\n"
     ]
    }
   ],
   "source": [
    "# Exercise 1a\n",
    "\n",
    "import math\n",
    "\n",
    "cathetus_1 = 3\n",
    "cathetus_2 = 4\n",
    "\n",
    "hypothenuse = math.sqrt(cathetus_1**2 + cathetus_2**2)\n",
    "\n",
    "print(f\"The hypothenuse is {hypothenuse} length units.\")\n",
    "\n",
    "# Exercise 1b\n",
    "hypothenuse_c = 7.0\n",
    "cathetus_b = 5.0\n",
    "\n",
    "cathetus_a = round(math.sqrt(hypothenuse_c**2 - cathetus_b**2), 1)\n",
    "print(f\"The other cathetus is approximately {cathetus_a} length units.\")"
   ]
  },
  {
   "cell_type": "markdown",
   "metadata": {},
   "source": [
    "### 2 Classification accuracy\n"
   ]
  },
  {
   "cell_type": "code",
   "execution_count": 2,
   "metadata": {},
   "outputs": [
    {
     "name": "stdout",
     "output_type": "stream",
     "text": [
      "The accuracy is 0.821917808219178.\n"
     ]
    }
   ],
   "source": [
    "total_predictions = 365\n",
    "correct_predictions = 300\n",
    "\n",
    "accuracy = correct_predictions / total_predictions\n",
    "\n",
    "print (f\"The accuracy is {accuracy}.\")"
   ]
  },
  {
   "cell_type": "markdown",
   "metadata": {},
   "source": [
    "### 3 Classification accuracy\n"
   ]
  },
  {
   "cell_type": "code",
   "execution_count": 3,
   "metadata": {},
   "outputs": [
    {
     "name": "stdout",
     "output_type": "stream",
     "text": [
      "The accuracy is 0.987.\n"
     ]
    }
   ],
   "source": [
    "TP = 2      #Reality fire, predicted fire\n",
    "FP = 2      #Reality no fire, predicted fire\n",
    "FN = 11     #Reality fire, predicted no fire\n",
    "TN = 985    #Reality no fire, predicted fire\n",
    "\n",
    "accuracy = (TP + TN) / (TP + FP + FN + TN)\n",
    "\n",
    "print (f\"The accuracy is {accuracy}.\")\n",
    "\n",
    "#This is not a good model, because it fails to identify the real fire in 11 out of 13 cases, which is the most important."
   ]
  },
  {
   "cell_type": "markdown",
   "metadata": {},
   "source": [
    "### 4 Line"
   ]
  },
  {
   "cell_type": "code",
   "execution_count": 4,
   "metadata": {},
   "outputs": [
    {
     "name": "stdout",
     "output_type": "stream",
     "text": [
      "The equation for the line is y = 0.75 * x + 1.0.\n"
     ]
    }
   ],
   "source": [
    "point_a = [4, 4]\n",
    "point_b = [0, 1]\n",
    "\n",
    "slope = (point_b[1] - point_a[1]) / (point_b[0] - point_a[0])\n",
    "intersect = point_a[1] - point_a[0]*slope       # y=kx+m ger m=y-kx\n",
    "\n",
    "print(f\"The equation for the line is y = {slope} * x + {intersect}.\")"
   ]
  },
  {
   "cell_type": "markdown",
   "metadata": {},
   "source": [
    "### 5 Euclidean distance\n"
   ]
  },
  {
   "cell_type": "code",
   "execution_count": 5,
   "metadata": {},
   "outputs": [
    {
     "name": "stdout",
     "output_type": "stream",
     "text": [
      "The distance between the points is approximately 5.1 length units.\n"
     ]
    }
   ],
   "source": [
    "import math\n",
    "\n",
    "p1 = [3, 5]     # point 1 coordinates\n",
    "p2 = [-2, 4]    # point 2 coordinates\n",
    "\n",
    "distance = math.sqrt((p1[0] - p2[0]) ** 2 + (p1[1] - p2[1]) ** 2)\n",
    "\n",
    "print(f\"The distance between the points is approximately {distance:.1f} length units.\")\n"
   ]
  },
  {
   "cell_type": "markdown",
   "metadata": {},
   "source": [
    "### 6 Euclidean distance in 3D\n"
   ]
  },
  {
   "cell_type": "code",
   "execution_count": 6,
   "metadata": {},
   "outputs": [
    {
     "name": "stdout",
     "output_type": "stream",
     "text": [
      "The distance between the points is approximately 4.12 length units.\n"
     ]
    }
   ],
   "source": [
    "import math\n",
    "\n",
    "p1 = [2, 1, 4]    # point 1 coordinates\n",
    "p2 = [3, 1, 0]    # point 2 coordinates\n",
    "\n",
    "distance = math.sqrt((p1[0] - p2[0]) ** 2 + (p1[1] - p2[1]) ** 2 + (p1[2] - p2[2]) ** 2)\n",
    "\n",
    "print(f\"The distance between the points is approximately {distance:.2f} length units.\")"
   ]
  }
 ],
 "metadata": {
  "kernelspec": {
   "display_name": "Python 3",
   "language": "python",
   "name": "python3"
  },
  "language_info": {
   "codemirror_mode": {
    "name": "ipython",
    "version": 3
   },
   "file_extension": ".py",
   "mimetype": "text/x-python",
   "name": "python",
   "nbconvert_exporter": "python",
   "pygments_lexer": "ipython3",
   "version": "3.12.5"
  }
 },
 "nbformat": 4,
 "nbformat_minor": 2
}
